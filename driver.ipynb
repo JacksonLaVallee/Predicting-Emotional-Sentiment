{
 "cells": [
  {
   "cell_type": "markdown",
   "metadata": {},
   "source": [
    "### Predicting Emotional Sentiment"
   ]
  },
  {
   "cell_type": "code",
   "execution_count": null,
   "metadata": {},
   "outputs": [],
   "source": [
    "import pandas as pd\n",
    "import numpy as np\n",
    "import nltk\n",
    "import contractions\n",
    "from sklearn.model_selection import train_test_split\n",
    "from sklearn.svm import SVC\n",
    "from sklearn.metrics import classification_report, accuracy_score\n",
    "import matplotlib.pyplot as plt\n",
    "from mpl_toolkits.mplot3d import Axes3D\n",
    "from sklearn.decomposition import PCA\n",
    "\n",
    "from nltk.tokenize import word_tokenize\n",
    "from nltk.corpus import stopwords\n",
    "_ = nltk.download('stopwords', quiet=True)\n",
    "_ = nltk.download('punkt', quiet=True)\n"
   ]
  },
  {
   "cell_type": "code",
   "execution_count": null,
   "metadata": {},
   "outputs": [],
   "source": [
    "# Load the dataset\n",
    "data = pd.read_csv('mental_health_data.csv')\n",
    "\n",
    "# Preprocessing\n",
    "\n",
    "# Remove the rows with missing values\n",
    "data = data.dropna()\n",
    "\n",
    "# Remove the rows with repeated entries in the statement column\n",
    "data = data.drop_duplicates(subset='statement')\n",
    "\n",
    "# Remove all non-letter and non-space characters from statement column\n",
    "data['statement'] = data['statement'].str.replace(r'[^a-zA-Z\\s]', '', regex=True)\n",
    "\n",
    "# Convert the statement column to lowercase\n",
    "data['statement'] = data['statement'].str.lower()\n",
    "data['status'] = data['status'].str.lower()\n",
    "\n",
    "# Expand contractions\n",
    "data['statement'] = data['statement'].apply(lambda x: contractions.fix(x))"
   ]
  },
  {
   "cell_type": "code",
   "execution_count": null,
   "metadata": {},
   "outputs": [],
   "source": [
    "\n",
    "# Tokenize the statement column\n",
    "data['tokens'] = data['statement'].apply(word_tokenize)\n",
    "\n",
    "# Remove stopwords\n",
    "stop_words = set(stopwords.words('english'))\n",
    "data['tokens'] = data['tokens'].apply(lambda x: [word for word in x if word not in stop_words])\n",
    "\n",
    "# Remove entries with an empty token vector\n",
    "data = data[data['tokens'].map(len) > 0]"
   ]
  },
  {
   "cell_type": "code",
   "execution_count": null,
   "metadata": {},
   "outputs": [],
   "source": [
    "# print num of each sentiment\n",
    "print(data['status'].value_counts())"
   ]
  },
  {
   "cell_type": "code",
   "execution_count": null,
   "metadata": {},
   "outputs": [],
   "source": [
    "sentiments = data['status'].unique()\n",
    "sentiment_to_index = {sent: idx for idx, sent in enumerate(sentiments)}\n",
    "\n",
    "# Split the data into training and testing sets\n",
    "X_train, X_test, y_train, y_test = train_test_split(data['tokens'], data['status'], test_size=0.2, random_state=42)\n",
    "\n",
    "train_total_sentences = {sent: len(y_train[y_train == sent]) for sent in sentiments}\n",
    "# Build a dictionary of word frequencies per sentiment\n",
    "train_word_freq = {} # key: word, value: list of frequency counts per sentiment\n",
    "for tokens, sentiment in zip(X_train, y_train):\n",
    "    for word in tokens:\n",
    "        if word not in train_word_freq:\n",
    "            train_word_freq[word] = [0] * len(sentiments)\n",
    "        train_word_freq[word][sentiment_to_index[sentiment]] += 1\n",
    "\n",
    "# Normalize frequencies\n",
    "for word, freq_vector in train_word_freq.items():\n",
    "    for sent, idx in sentiment_to_index.items():\n",
    "        freq_vector[idx] /= train_total_sentences[sent]\n",
    "\n",
    "# Map sentences to feature vectors\n",
    "def sentence_to_vector(tokens, word_freq, sentiments):\n",
    "    vector = np.zeros(len(sentiments))\n",
    "\n",
    "    for token in tokens:\n",
    "        if token in word_freq:\n",
    "            vector += np.array(word_freq[token])\n",
    "\n",
    "    # Normalize the vector\n",
    "    return vector / len(tokens)\n",
    "\n",
    "X_train_vec = X_train.apply(lambda tokens: sentence_to_vector(tokens, train_word_freq, sentiments))\n",
    "X_test_vec = X_test.apply(lambda tokens: sentence_to_vector(tokens, train_word_freq, sentiments))\n",
    "\n",
    "print(X_train_vec)\n"
   ]
  },
  {
   "cell_type": "code",
   "execution_count": null,
   "metadata": {},
   "outputs": [],
   "source": [
    "X_train_array = np.vstack(X_train_vec.values)\n",
    "X_test_array = np.vstack(X_test_vec.values)\n",
    "\n",
    "# Initialize the SVM model with an RBF kernel (tune parameters as needed)\n",
    "svm_model = SVC(kernel='rbf', random_state=42, class_weight='balanced')\n",
    "\n",
    "# Fit the SVM model on the training data\n",
    "svm_model.fit(X_train_array, y_train)\n",
    "\n",
    "# Make predictions on the test set\n",
    "y_pred = svm_model.predict(X_test_array)\n",
    "\n",
    "# Evaluate the model's performance\n",
    "print(\"Test Accuracy:\", accuracy_score(y_test, y_pred))\n",
    "print(\"\\nClassification Report:\\n\", classification_report(y_test, y_pred))"
   ]
  },
  {
   "cell_type": "code",
   "execution_count": null,
   "metadata": {},
   "outputs": [],
   "source": [
    "\n",
    "# Convert X_train_vec (a Series of numpy arrays) to a 2D numpy array\n",
    "X_train_array = np.vstack(X_train_vec.values)\n",
    "\n",
    "# Apply PCA to reduce to 3 dimensions\n",
    "pca = PCA(n_components=3, random_state=42)\n",
    "X_train_pca = pca.fit_transform(X_train_array)\n",
    "\n",
    "# Create a 3D scatter plot with colors for each sentiment, using only the first 100 samples per sentiment\n",
    "fig = plt.figure(figsize=(10,8))\n",
    "ax = fig.add_subplot(111, projection='3d')\n",
    "unique_sentiments = np.unique(y_train)\n",
    "for sentiment in unique_sentiments:\n",
    "    # Get indices for the current sentiment and limit to the first 100 entries\n",
    "    indices = np.where(y_train == sentiment)[0][:100]\n",
    "    ax.scatter(X_train_pca[indices, 0], X_train_pca[indices, 1], X_train_pca[indices, 2],\n",
    "               label=sentiment, alpha=0.7)\n",
    "\n",
    "ax.set_xlabel(\"Principal Component 1\")\n",
    "ax.set_ylabel(\"Principal Component 2\")\n",
    "ax.set_zlabel(\"Principal Component 3\")\n",
    "ax.set_title(\"PCA Visualization of Training Set (First 100 Samples per Sentiment) in 3D\")\n",
    "ax.legend()\n",
    "plt.show()\n"
   ]
  }
 ],
 "metadata": {
  "kernelspec": {
   "display_name": "Python 3",
   "language": "python",
   "name": "python3"
  },
  "language_info": {
   "codemirror_mode": {
    "name": "ipython",
    "version": 3
   },
   "file_extension": ".py",
   "mimetype": "text/x-python",
   "name": "python",
   "nbconvert_exporter": "python",
   "pygments_lexer": "ipython3",
   "version": "3.11.9"
  }
 },
 "nbformat": 4,
 "nbformat_minor": 2
}
